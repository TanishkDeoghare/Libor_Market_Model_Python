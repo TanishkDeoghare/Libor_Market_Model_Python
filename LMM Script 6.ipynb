{
 "cells": [
  {
   "cell_type": "code",
   "execution_count": 1,
   "metadata": {},
   "outputs": [
    {
     "data": {
      "image/png": "[encoded data removed]",
      "text/plain": [
       "<Figure size 640x480 with 1 Axes>"
      ]
     },
     "metadata": {},
     "output_type": "display_data"
    },
    {
     "name": "stdout",
     "output_type": "stream",
     "text": [
      "[-0.63171  -0.650322 -0.664493 -0.674608 -0.681294 -0.647593 -0.587828\n",
      " -0.51251  -0.101804  0.182851  0.32962   0.392117  0.412151]\n",
      "[ 0.25  0.5   0.75  1.    2.    3.    4.    5.   10.   15.   20.   25.\n",
      " 30.  ]\n"
     ]
    }
   ],
   "source": [
    "import numpy as np\n",
    "from PyCurve.curve import Curve\n",
    "import matplotlib.pyplot as plt\n",
    "\n",
    "time = np.array([0.25, 0.5, 0.75, 1., 2., \n",
    "                 3., 4., 5., 10., 15., \n",
    "                 20., 25., 30.])\n",
    "rate = np.array([-0.63171, -0.650322, -0.664493, -0.674608, -0.681294,\n",
    "                 -0.647593, -0.587828, -0.51251, -0.101804,  0.182851,\n",
    "                 0.32962, 0.392117,  0.412151])\n",
    "\n",
    "curve = Curve(time, rate)\n",
    "\n",
    "# Custom plot function\n",
    "def plot_curve(curve_obj):\n",
    "    fig, ax = plt.subplots(1)\n",
    "    fig.suptitle(\"Yield Curve Term Structure\")\n",
    "    fig.canvas.manager.set_window_title('Yield Curve Term Structure')  # Fixed line\n",
    "    ax.set_xlabel('Time, t')\n",
    "    ax.set_ylabel('Simulated Asset Price')\n",
    "    \n",
    "    # Access time and rate using the appropriate attributes\n",
    "    time_data = curve_obj.get_time\n",
    "    rate_data = curve_obj.get_rate\n",
    "    \n",
    "    ax.plot(time_data, rate_data)\n",
    "    plt.show()\n",
    "\n",
    "# Use the custom plot function\n",
    "plot_curve(curve)\n",
    "\n",
    "# Accessing attributes correctly\n",
    "print(curve.get_rate)\n",
    "print(curve.get_time)\n"
   ]
  },
  {
   "cell_type": "code",
   "execution_count": 2,
   "metadata": {},
   "outputs": [
    {
     "ename": "ImportError",
     "evalue": "cannot import name 'Curve' from 'PyCurve' (c:\\Users\\tanishk.deoghare\\AppData\\Local\\anaconda3\\envs\\LMM\\Lib\\site-packages\\PyCurve\\__init__.py)",
     "output_type": "error",
     "traceback": [
      "\u001b[1;31m---------------------------------------------------------------------------\u001b[0m",
      "\u001b[1;31mImportError\u001b[0m                               Traceback (most recent call last)",
      "Cell \u001b[1;32mIn[2], line 1\u001b[0m\n\u001b[1;32m----> 1\u001b[0m \u001b[38;5;28;01mfrom\u001b[39;00m \u001b[38;5;21;01mPyCurve\u001b[39;00m \u001b[38;5;28;01mimport\u001b[39;00m Curve\n\u001b[0;32m      2\u001b[0m time \u001b[38;5;241m=\u001b[39m np\u001b[38;5;241m.\u001b[39marray([\u001b[38;5;241m0.25\u001b[39m, \u001b[38;5;241m0.5\u001b[39m, \u001b[38;5;241m0.75\u001b[39m, \u001b[38;5;241m1.\u001b[39m, \u001b[38;5;241m2.\u001b[39m, \n\u001b[0;32m      3\u001b[0m         \u001b[38;5;241m3.\u001b[39m, \u001b[38;5;241m4.\u001b[39m, \u001b[38;5;241m5.\u001b[39m, \u001b[38;5;241m10.\u001b[39m, \u001b[38;5;241m15.\u001b[39m, \n\u001b[0;32m      4\u001b[0m         \u001b[38;5;241m20.\u001b[39m,\u001b[38;5;241m25.\u001b[39m,\u001b[38;5;241m30.\u001b[39m])\n\u001b[0;32m      5\u001b[0m d_rate \u001b[38;5;241m=\u001b[39m np\u001b[38;5;241m.\u001b[39marray([\u001b[38;5;241m-\u001b[39m\u001b[38;5;241m0.63171\u001b[39m, \u001b[38;5;241m-\u001b[39m\u001b[38;5;241m0.650322\u001b[39m, \u001b[38;5;241m-\u001b[39m\u001b[38;5;241m0.664493\u001b[39m, \u001b[38;5;241m-\u001b[39m\u001b[38;5;241m0.674608\u001b[39m, \u001b[38;5;241m-\u001b[39m\u001b[38;5;241m0.681294\u001b[39m,\n\u001b[0;32m      6\u001b[0m         \u001b[38;5;241m-\u001b[39m\u001b[38;5;241m0.647593\u001b[39m, \u001b[38;5;241m-\u001b[39m\u001b[38;5;241m0.587828\u001b[39m, \u001b[38;5;241m-\u001b[39m\u001b[38;5;241m0.51251\u001b[39m, \u001b[38;5;241m-\u001b[39m\u001b[38;5;241m0.101804\u001b[39m,  \u001b[38;5;241m0.182851\u001b[39m,\n\u001b[0;32m      7\u001b[0m         \u001b[38;5;241m0.32962\u001b[39m,\u001b[38;5;241m0.392117\u001b[39m,  \u001b[38;5;241m0.412151\u001b[39m])\n",
      "\u001b[1;31mImportError\u001b[0m: cannot import name 'Curve' from 'PyCurve' (c:\\Users\\tanishk.deoghare\\AppData\\Local\\anaconda3\\envs\\LMM\\Lib\\site-packages\\PyCurve\\__init__.py)"
     ]
    }
   ],
   "source": [
    "from PyCurve import Curve\n",
    "time = np.array([0.25, 0.5, 0.75, 1., 2., \n",
    "        3., 4., 5., 10., 15., \n",
    "        20.,25.,30.])\n",
    "d_rate = np.array([-0.63171, -0.650322, -0.664493, -0.674608, -0.681294,\n",
    "        -0.647593, -0.587828, -0.51251, -0.101804,  0.182851,\n",
    "        0.32962,0.392117,  0.412151])\n",
    "curve = Curve(time,d_rate)"
   ]
  },
  {
   "cell_type": "code",
   "execution_count": 3,
   "metadata": {},
   "outputs": [
    {
     "name": "stdout",
     "output_type": "stream",
     "text": [
      "7.5-year d_rate : -0.307157\n",
      "7.5-year discount d_rate : 1.0233404498400862\n",
      "Forward d_rate between 7.5 and 12.5 years : 0.5620442499999999\n"
     ]
    }
   ],
   "source": [
    "from PyCurve.linear import LinearCurve\n",
    "linear_curve = LinearCurve(curve)\n",
    "print(\"7.5-year d_rate : \"+str(linear_curve.d_rate(7.5)))\n",
    "print(\"7.5-year discount d_rate : \"+str(linear_curve.df_t(7.5)))\n",
    "print(\"Forward d_rate between 7.5 and 12.5 years : \"+str(linear_curve.forward(7.5,12.5)))"
   ]
  },
  {
   "cell_type": "code",
   "execution_count": 4,
   "metadata": {},
   "outputs": [
    {
     "name": "stdout",
     "output_type": "stream",
     "text": [
      "Nelson Siegel Model\n",
      "============================\n",
      "beta0 = 0.7515060771417343\n",
      "beta1 = -1.3304972091294238\n",
      "beta2 = -2.2203178638608274\n",
      "tau = 2.5493057062390716\n",
      "____________________________\n",
      "============================\n",
      "Calibration Results\n",
      "============================\n",
      "CONVERGENCE: NORM_OF_PROJECTED_GRADIENT_<=_PGTOL\n",
      "Mean Squared Error 0.004236730692646304\n",
      "Number of Iterations 20\n",
      "____________________________\n"
     ]
    },
    {
     "data": {
      "text/plain": [
       "  message: CONVERGENCE: NORM_OF_PROJECTED_GRADIENT_<=_PGTOL\n",
       "  success: True\n",
       "   status: 0\n",
       "      fun: 0.004236730692646304\n",
       "        x: [ 7.515e-01 -1.330e+00 -2.220e+00  2.549e+00]\n",
       "      nit: 20\n",
       "      jac: [-2.401e-06  9.493e-07 -2.332e-07  7.985e-07]\n",
       "     nfev: 105\n",
       "     njev: 21\n",
       " hess_inv: <4x4 LbfgsInvHessProduct with dtype=float64>"
      ]
     },
     "execution_count": 4,
     "metadata": {},
     "output_type": "execute_result"
    }
   ],
   "source": [
    "from PyCurve.nelson_siegel import NelsonSiegel\n",
    "ns = NelsonSiegel(0.3,0.4,12,1)\n",
    "ns.calibrate(curve)"
   ]
  },
  {
   "cell_type": "code",
   "execution_count": 13,
   "metadata": {},
   "outputs": [],
   "source": [
    "import QuantLib as ql\n",
    "today = ql.Date().todaysDate()\n",
    "riskFreeTS = ql.YieldTermStructureHandle(ql.FlatForward(today, 0.05, ql.Actual365Fixed()))\n",
    "dividendTS = ql.YieldTermStructureHandle(ql.FlatForward(today, 0.01, ql.Actual365Fixed()))\n",
    "\n",
    "initialValue = ql.QuoteHandle(ql.SimpleQuote(100))\n",
    "v0 = 0.005\n",
    "kappa = 0.8\n",
    "theta = 0.008\n",
    "rho = 0.2\n",
    "sigma = 0.1\n",
    "\n",
    "hestonProcess = ql.HestonProcess(riskFreeTS, dividendTS, initialValue, v0, kappa, theta, sigma, rho)\n",
    "hestonModel = ql.HestonModel(hestonProcess)\n",
    "\n",
    "engine = ql.AnalyticHestonEngine(hestonModel)"
   ]
  },
  {
   "cell_type": "code",
   "execution_count": 14,
   "metadata": {},
   "outputs": [],
   "source": [
    "import QuantLib as ql\n",
    "import pandas as pd"
   ]
  },
  {
   "cell_type": "code",
   "execution_count": 15,
   "metadata": {},
   "outputs": [],
   "source": [
    "# Begin by setting the valuation date of which the cap and the floor should be priced at\n",
    "ql.Settings.instance().evaluationDate = ql.Date(1, 1, 2022)\n",
    "# Then we initialize the curve we want to use for discounting and forecasting\n",
    "discount_factors = [1, 0.965, 0.94]  # discount factors\n",
    "dates = [\n",
    "    ql.Date(1, 1, 2022),\n",
    "    ql.Date(1, 1, 2023),\n",
    "    ql.Date(1, 1, 2024),\n",
    "]  # maturity dates of the discount factors\n",
    "day_counter = ql.Actual360()\n",
    "# Note that we will not strip a curve here, but simply use the discount factors and the dates defined above\n",
    "# By default QuantLib DiscountCurve will log linearly interpolate between the points.\n",
    "discount_curve = ql.DiscountCurve(dates, discount_factors, day_counter)\n",
    "# The curve will note be linked in case we want to update the quotes later on\n",
    "discount_handle = ql.YieldTermStructureHandle(discount_curve)"
   ]
  },
  {
   "cell_type": "code",
   "execution_count": 16,
   "metadata": {},
   "outputs": [],
   "source": [
    "start_date = ql.Date(1, 1, 2022)\n",
    "end_date = start_date + ql.Period(12, ql.Months)\n",
    "\n",
    "# We define the schedule of the cap and floor\n",
    "schedule = ql.Schedule(\n",
    "    start_date,                 # Start date of payments\n",
    "    end_date,                   # End date of payments\n",
    "    ql.Period(3, ql.Months),    # frequency of payments\n",
    "    ql.Sweden(),                # Calendar for adjusting for holidays\n",
    "    ql.ModifiedFollowing,       # Business convention for adjusting for holidays\n",
    "    ql.ModifiedFollowing,       # Business convention for adjusting for holidays\n",
    "    ql.DateGeneration.Backward, # Date generation rule for generating the schedule\n",
    "    False,                      # End of month rule\n",
    ")\n",
    "\n",
    "# Create a custom index to track the payments correctly, specifically fixing days.\n",
    "custom_discount_index= ql.IborIndex(\n",
    "    \"MyIndex\",\n",
    "    ql.Period(\"3m\"),\n",
    "    0,\n",
    "    ql.SEKCurrency(),\n",
    "    ql.Sweden(),\n",
    "    ql.ModifiedFollowing,\n",
    "    False,\n",
    "    ql.Actual360(),\n",
    "    discount_handle,\n",
    ")"
   ]
  },
  {
   "cell_type": "code",
   "execution_count": 17,
   "metadata": {},
   "outputs": [
    {
     "name": "stdout",
     "output_type": "stream",
     "text": [
      "10831.583434218297\n"
     ]
    }
   ],
   "source": [
    "# As you have noted by now, the pricing of caps and floors involves creating a floating leg\n",
    "ibor_leg_discount = ql.IborLeg([1e6], schedule, custom_discount_index)\n",
    "strike = [0.025]\n",
    "cap_discount = ql.Cap(ibor_leg_discount, strike)\n",
    "\n",
    "# The final step is to define a volatility surface, we will use a constant volatility for simplicity\n",
    "volatility = ql.QuoteHandle(ql.SimpleQuote(0.5))\n",
    "\n",
    "# Input our discounting and forecasting curve together with our volatility surface to the engine\n",
    "engine = ql.BlackCapFloorEngine(discount_handle, volatility)\n",
    "cap_discount.setPricingEngine(engine)\n",
    "print(cap_discount.NPV())"
   ]
  },
  {
   "cell_type": "code",
   "execution_count": 18,
   "metadata": {},
   "outputs": [
    {
     "data": {
      "text/html": [
       "<div>\n",
       "<style scoped>\n",
       "    .dataframe tbody tr th:only-of-type {\n",
       "        vertical-align: middle;\n",
       "    }\n",
       "\n",
       "    .dataframe tbody tr th {\n",
       "        vertical-align: top;\n",
       "    }\n",
       "\n",
       "    .dataframe thead th {\n",
       "        text-align: right;\n",
       "    }\n",
       "</style>\n",
       "<table border=\"1\" class=\"dataframe\">\n",
       "  <thead>\n",
       "    <tr style=\"text-align: right;\">\n",
       "      <th></th>\n",
       "      <th>price</th>\n",
       "      <th>discount_factor</th>\n",
       "      <th>cap_rate</th>\n",
       "      <th>atm_forward</th>\n",
       "      <th>std_dev</th>\n",
       "      <th>accrual_start</th>\n",
       "      <th>accrual_end</th>\n",
       "    </tr>\n",
       "  </thead>\n",
       "  <tbody>\n",
       "    <tr>\n",
       "      <th>0</th>\n",
       "      <td>2493.450264</td>\n",
       "      <td>0.991254</td>\n",
       "      <td>0.025</td>\n",
       "      <td>0.035290</td>\n",
       "      <td>0.037012</td>\n",
       "      <td>January 3rd, 2022</td>\n",
       "      <td>April 1st, 2022</td>\n",
       "    </tr>\n",
       "    <tr>\n",
       "      <th>1</th>\n",
       "      <td>2625.359083</td>\n",
       "      <td>0.982488</td>\n",
       "      <td>0.025</td>\n",
       "      <td>0.035296</td>\n",
       "      <td>0.248282</td>\n",
       "      <td>April 1st, 2022</td>\n",
       "      <td>July 1st, 2022</td>\n",
       "    </tr>\n",
       "    <tr>\n",
       "      <th>2</th>\n",
       "      <td>2846.309041</td>\n",
       "      <td>0.973515</td>\n",
       "      <td>0.025</td>\n",
       "      <td>0.035301</td>\n",
       "      <td>0.352097</td>\n",
       "      <td>July 1st, 2022</td>\n",
       "      <td>October 3rd, 2022</td>\n",
       "    </tr>\n",
       "    <tr>\n",
       "      <th>3</th>\n",
       "      <td>2866.465047</td>\n",
       "      <td>0.964931</td>\n",
       "      <td>0.025</td>\n",
       "      <td>0.035193</td>\n",
       "      <td>0.434000</td>\n",
       "      <td>October 3rd, 2022</td>\n",
       "      <td>January 2nd, 2023</td>\n",
       "    </tr>\n",
       "  </tbody>\n",
       "</table>\n",
       "</div>"
      ],
      "text/plain": [
       "         price  discount_factor  cap_rate  atm_forward   std_dev  \\\n",
       "0  2493.450264         0.991254     0.025     0.035290  0.037012   \n",
       "1  2625.359083         0.982488     0.025     0.035296  0.248282   \n",
       "2  2846.309041         0.973515     0.025     0.035301  0.352097   \n",
       "3  2866.465047         0.964931     0.025     0.035193  0.434000   \n",
       "\n",
       "       accrual_start        accrual_end  \n",
       "0  January 3rd, 2022    April 1st, 2022  \n",
       "1    April 1st, 2022     July 1st, 2022  \n",
       "2     July 1st, 2022  October 3rd, 2022  \n",
       "3  October 3rd, 2022  January 2nd, 2023  "
      ]
     },
     "execution_count": 18,
     "metadata": {},
     "output_type": "execute_result"
    }
   ],
   "source": [
    "schedule_dates = schedule.dates()\n",
    "\n",
    "display_result = lambda _ : pd.DataFrame({\n",
    "    'price': _.optionletsPrice(),\n",
    "    'discount_factor': _.optionletsDiscountFactor(),\n",
    "    'cap_rate': _.capRates(),\n",
    "    'atm_forward': _.optionletsAtmForward(),\n",
    "    'std_dev': _.optionletsStdDev(),\n",
    "    'accrual_start': schedule_dates[:-1],\n",
    "    'accrual_end' : schedule_dates[1:]\n",
    "})\n",
    "\n",
    "display_result(cap_discount)"
   ]
  },
  {
   "cell_type": "code",
   "execution_count": 19,
   "metadata": {},
   "outputs": [],
   "source": [
    "ql.Settings.instance().evaluationDate = ql.Date(1, 1, 2022)\n",
    "\n",
    "# Similiar to the discount curve we declared previously\n",
    "forward_rates = [0.04, 0.05, 0.06]\n",
    "forward_curve = ql.ForwardCurve(dates, forward_rates, day_counter)\n",
    "forward_handle = ql.YieldTermStructureHandle(forward_curve)"
   ]
  },
  {
   "cell_type": "code",
   "execution_count": 20,
   "metadata": {},
   "outputs": [],
   "source": [
    "# Create a new index that uses the forward curve for forecasting\n",
    "custom_forward_index= ql.IborIndex(\n",
    "    \"MyIndex\",\n",
    "    ql.Period(\"3m\"),\n",
    "    0,\n",
    "    ql.SEKCurrency(),\n",
    "    ql.Sweden(),\n",
    "    ql.ModifiedFollowing,\n",
    "    False,\n",
    "    ql.Actual360(),\n",
    "    forward_handle, # Previously was set to discount_handle\n",
    ")"
   ]
  },
  {
   "cell_type": "code",
   "execution_count": 22,
   "metadata": {},
   "outputs": [
    {
     "name": "stdout",
     "output_type": "stream",
     "text": [
      "25171.79621353972\n"
     ]
    }
   ],
   "source": [
    "# Define a new ibor_leg & cap that uses the new index with forward estimation\n",
    "ibor_leg_forward = ql.IborLeg([1e6], schedule, custom_forward_index)\n",
    "cap_forward = ql.Cap(ibor_leg_forward, strike)\n",
    "\n",
    "# Input our discounting and forecasting curve together with our volatility surface to the engine\n",
    "engine_forward = ql.BlackCapFloorEngine(discount_handle, volatility)\n",
    "cap_forward.setPricingEngine(engine_forward)\n",
    "print(cap_forward.NPV())"
   ]
  },
  {
   "cell_type": "code",
   "execution_count": 23,
   "metadata": {},
   "outputs": [
    {
     "data": {
      "text/html": [
       "<div>\n",
       "<style scoped>\n",
       "    .dataframe tbody tr th:only-of-type {\n",
       "        vertical-align: middle;\n",
       "    }\n",
       "\n",
       "    .dataframe tbody tr th {\n",
       "        vertical-align: top;\n",
       "    }\n",
       "\n",
       "    .dataframe thead th {\n",
       "        text-align: right;\n",
       "    }\n",
       "</style>\n",
       "<table border=\"1\" class=\"dataframe\">\n",
       "  <thead>\n",
       "    <tr style=\"text-align: right;\">\n",
       "      <th></th>\n",
       "      <th>price</th>\n",
       "      <th>discount_factor</th>\n",
       "      <th>cap_rate</th>\n",
       "      <th>atm_forward</th>\n",
       "      <th>std_dev</th>\n",
       "      <th>accrual_start</th>\n",
       "      <th>accrual_end</th>\n",
       "    </tr>\n",
       "  </thead>\n",
       "  <tbody>\n",
       "    <tr>\n",
       "      <th>0</th>\n",
       "      <td>6132.002083</td>\n",
       "      <td>0.991254</td>\n",
       "      <td>0.025</td>\n",
       "      <td>0.050307</td>\n",
       "      <td>0.037012</td>\n",
       "      <td>January 3rd, 2022</td>\n",
       "      <td>April 1st, 2022</td>\n",
       "    </tr>\n",
       "    <tr>\n",
       "      <th>1</th>\n",
       "      <td>6289.142138</td>\n",
       "      <td>0.982488</td>\n",
       "      <td>0.025</td>\n",
       "      <td>0.050317</td>\n",
       "      <td>0.248282</td>\n",
       "      <td>April 1st, 2022</td>\n",
       "      <td>July 1st, 2022</td>\n",
       "    </tr>\n",
       "    <tr>\n",
       "      <th>2</th>\n",
       "      <td>6465.774497</td>\n",
       "      <td>0.973515</td>\n",
       "      <td>0.025</td>\n",
       "      <td>0.050328</td>\n",
       "      <td>0.352097</td>\n",
       "      <td>July 1st, 2022</td>\n",
       "      <td>October 3rd, 2022</td>\n",
       "    </tr>\n",
       "    <tr>\n",
       "      <th>3</th>\n",
       "      <td>6284.877495</td>\n",
       "      <td>0.964931</td>\n",
       "      <td>0.025</td>\n",
       "      <td>0.050429</td>\n",
       "      <td>0.434000</td>\n",
       "      <td>October 3rd, 2022</td>\n",
       "      <td>January 2nd, 2023</td>\n",
       "    </tr>\n",
       "  </tbody>\n",
       "</table>\n",
       "</div>"
      ],
      "text/plain": [
       "         price  discount_factor  cap_rate  atm_forward   std_dev  \\\n",
       "0  6132.002083         0.991254     0.025     0.050307  0.037012   \n",
       "1  6289.142138         0.982488     0.025     0.050317  0.248282   \n",
       "2  6465.774497         0.973515     0.025     0.050328  0.352097   \n",
       "3  6284.877495         0.964931     0.025     0.050429  0.434000   \n",
       "\n",
       "       accrual_start        accrual_end  \n",
       "0  January 3rd, 2022    April 1st, 2022  \n",
       "1    April 1st, 2022     July 1st, 2022  \n",
       "2     July 1st, 2022  October 3rd, 2022  \n",
       "3  October 3rd, 2022  January 2nd, 2023  "
      ]
     },
     "execution_count": 23,
     "metadata": {},
     "output_type": "execute_result"
    }
   ],
   "source": [
    "schedule_dates = schedule.dates()\n",
    "display_result(cap_forward)"
   ]
  },
  {
   "cell_type": "code",
   "execution_count": 24,
   "metadata": {},
   "outputs": [
    {
     "name": "stdout",
     "output_type": "stream",
     "text": [
      "25340.288918668186\n"
     ]
    }
   ],
   "source": [
    "# Set the settlement day of the volatility surface\n",
    "settlementDays = 0\n",
    "\n",
    "# Define the expiries for the volatility surface\n",
    "expiries = [ql.Period(\"3M\"), ql.Period(\"6M\"), ql.Period(\"9M\"), ql.Period(\"1Y\")]\n",
    "\n",
    "# Define the strikes for the volatility surface\n",
    "strikes = [0.010, 0.025, 0.03]\n",
    "\n",
    "# Define the market quotes for the volatility surface\n",
    "black_volatility = [[0.98, 0.792, 0.6873], [0.9301, 0.7401, 0.6403], [0.7926, 0.6424, 0.5602], [0.7126, 0.6024, 0.4902]]\n",
    "\n",
    "# Create a new volatility surface\n",
    "volatility_surface = ql.CapFloorTermVolSurface(\n",
    "    settlementDays,\n",
    "    ql.Sweden(),\n",
    "    ql.ModifiedFollowing,\n",
    "    expiries,\n",
    "    strikes,\n",
    "    black_volatility,\n",
    "    day_counter,\n",
    ")\n",
    "# Strip the volatility surface for optionlets (caplets) as the input is based on caps\n",
    "optionlet_surf = ql.OptionletStripper1(volatility_surface, custom_forward_index)\n",
    "\n",
    "# Call strippedOptionletAdapter to create a handle for the volatility surface\n",
    "ovs_handle = ql.OptionletVolatilityStructureHandle(\n",
    "    ql.StrippedOptionletAdapter(optionlet_surf)\n",
    ")\n",
    "\n",
    "cap_volatility = ql.Cap(ibor_leg_forward, strike)\n",
    "# Input our discounting and forecasting curve together with our volatility surface to the engine\n",
    "engine_volatility = ql.BlackCapFloorEngine(discount_handle, ovs_handle)\n",
    "cap_volatility.setPricingEngine(engine_volatility)\n",
    "print(cap_volatility.NPV())"
   ]
  },
  {
   "cell_type": "code",
   "execution_count": 25,
   "metadata": {},
   "outputs": [
    {
     "data": {
      "text/html": [
       "<div>\n",
       "<style scoped>\n",
       "    .dataframe tbody tr th:only-of-type {\n",
       "        vertical-align: middle;\n",
       "    }\n",
       "\n",
       "    .dataframe tbody tr th {\n",
       "        vertical-align: top;\n",
       "    }\n",
       "\n",
       "    .dataframe thead th {\n",
       "        text-align: right;\n",
       "    }\n",
       "</style>\n",
       "<table border=\"1\" class=\"dataframe\">\n",
       "  <thead>\n",
       "    <tr style=\"text-align: right;\">\n",
       "      <th></th>\n",
       "      <th>price</th>\n",
       "      <th>discount_factor</th>\n",
       "      <th>cap_rate</th>\n",
       "      <th>atm_forward</th>\n",
       "      <th>std_dev</th>\n",
       "      <th>accrual_start</th>\n",
       "      <th>accrual_end</th>\n",
       "    </tr>\n",
       "  </thead>\n",
       "  <tbody>\n",
       "    <tr>\n",
       "      <th>0</th>\n",
       "      <td>6132.002083</td>\n",
       "      <td>0.991254</td>\n",
       "      <td>0.025</td>\n",
       "      <td>0.050307</td>\n",
       "      <td>0.000000</td>\n",
       "      <td>January 3rd, 2022</td>\n",
       "      <td>April 1st, 2022</td>\n",
       "    </tr>\n",
       "    <tr>\n",
       "      <th>1</th>\n",
       "      <td>6325.268247</td>\n",
       "      <td>0.982488</td>\n",
       "      <td>0.025</td>\n",
       "      <td>0.050317</td>\n",
       "      <td>0.372127</td>\n",
       "      <td>April 1st, 2022</td>\n",
       "      <td>July 1st, 2022</td>\n",
       "    </tr>\n",
       "    <tr>\n",
       "      <th>2</th>\n",
       "      <td>6526.008974</td>\n",
       "      <td>0.973515</td>\n",
       "      <td>0.025</td>\n",
       "      <td>0.050328</td>\n",
       "      <td>0.434983</td>\n",
       "      <td>July 1st, 2022</td>\n",
       "      <td>October 3rd, 2022</td>\n",
       "    </tr>\n",
       "    <tr>\n",
       "      <th>3</th>\n",
       "      <td>6357.009614</td>\n",
       "      <td>0.964931</td>\n",
       "      <td>0.025</td>\n",
       "      <td>0.050429</td>\n",
       "      <td>0.500385</td>\n",
       "      <td>October 3rd, 2022</td>\n",
       "      <td>January 2nd, 2023</td>\n",
       "    </tr>\n",
       "  </tbody>\n",
       "</table>\n",
       "</div>"
      ],
      "text/plain": [
       "         price  discount_factor  cap_rate  atm_forward   std_dev  \\\n",
       "0  6132.002083         0.991254     0.025     0.050307  0.000000   \n",
       "1  6325.268247         0.982488     0.025     0.050317  0.372127   \n",
       "2  6526.008974         0.973515     0.025     0.050328  0.434983   \n",
       "3  6357.009614         0.964931     0.025     0.050429  0.500385   \n",
       "\n",
       "       accrual_start        accrual_end  \n",
       "0  January 3rd, 2022    April 1st, 2022  \n",
       "1    April 1st, 2022     July 1st, 2022  \n",
       "2     July 1st, 2022  October 3rd, 2022  \n",
       "3  October 3rd, 2022  January 2nd, 2023  "
      ]
     },
     "execution_count": 25,
     "metadata": {},
     "output_type": "execute_result"
    }
   ],
   "source": [
    "display_result(cap_volatility)"
   ]
  },
  {
   "cell_type": "code",
   "execution_count": 26,
   "metadata": {},
   "outputs": [
    {
     "data": {
      "text/plain": [
       "<QuantLib.QuantLib.Euribor6M; proxy of <Swig Object of type 'ext::shared_ptr< Euribor6M > *' at 0x000001596890F840> >"
      ]
     },
     "execution_count": 26,
     "metadata": {},
     "output_type": "execute_result"
    }
   ],
   "source": [
    "ql.IborIndex('MyIndex', ql.Period('6m'), 2, ql.EURCurrency(), ql.TARGET(), ql.ModifiedFollowing, True, ql.Actual360())\n",
    "ql.Libor('MyIndex', ql.Period('6M'), 2, ql.USDCurrency(), ql.TARGET(), ql.Actual360())\n",
    "ql.Euribor(ql.Period('6M'))\n",
    "ql.USDLibor(ql.Period('6M'))\n",
    "ql.Euribor6M()"
   ]
  },
  {
   "cell_type": "code",
   "execution_count": 28,
   "metadata": {},
   "outputs": [
    {
     "data": {
      "text/plain": [
       "<QuantLib.QuantLib.LocalVolSurface; proxy of <Swig Object of type 'ext::shared_ptr< LocalVolSurface > *' at 0x000001594D399530> >"
      ]
     },
     "execution_count": 28,
     "metadata": {},
     "output_type": "execute_result"
    }
   ],
   "source": [
    "today = ql.Date().todaysDate()\n",
    "calendar = ql.NullCalendar()\n",
    "dayCounter = ql.Actual365Fixed()\n",
    "volatility = 0.2\n",
    "r, q = 0.02, 0.05\n",
    "\n",
    "blackVolTs = ql.BlackVolTermStructureHandle(ql.BlackConstantVol(today, calendar, volatility, dayCounter))\n",
    "ratesTs = ql.YieldTermStructureHandle(ql.FlatForward(today, r, dayCounter))\n",
    "dividendTs = ql.YieldTermStructureHandle(ql.FlatForward(today, q, dayCounter))\n",
    "spot = 100\n",
    "\n",
    "ql.LocalVolSurface(blackVolTs, ratesTs, dividendTs, spot)"
   ]
  },
  {
   "cell_type": "code",
   "execution_count": 30,
   "metadata": {},
   "outputs": [],
   "source": [
    "import QuantLib as ql\n",
    "import matplotlib.pyplot as plt"
   ]
  },
  {
   "cell_type": "code",
   "execution_count": 37,
   "metadata": {},
   "outputs": [
    {
     "ename": "TypeError",
     "evalue": "Wrong number or type of arguments for overloaded function 'new_ZeroCurve'.\n  Possible C/C++ prototypes are:\n    InterpolatedZeroCurve< Linear >::InterpolatedZeroCurve(std::vector< Date,std::allocator< Date > > const &,std::vector< Rate,std::allocator< Rate > > const &,DayCounter const &,Calendar const &,Linear const &,Compounding,Frequency)\n    InterpolatedZeroCurve< Linear >::InterpolatedZeroCurve(std::vector< Date,std::allocator< Date > > const &,std::vector< Rate,std::allocator< Rate > > const &,DayCounter const &,Calendar const &,Linear const &,Compounding)\n    InterpolatedZeroCurve< Linear >::InterpolatedZeroCurve(std::vector< Date,std::allocator< Date > > const &,std::vector< Rate,std::allocator< Rate > > const &,DayCounter const &,Calendar const &,Linear const &)\n    InterpolatedZeroCurve< Linear >::InterpolatedZeroCurve(std::vector< Date,std::allocator< Date > > const &,std::vector< Rate,std::allocator< Rate > > const &,DayCounter const &,Calendar const &)\n    InterpolatedZeroCurve< Linear >::InterpolatedZeroCurve(std::vector< Date,std::allocator< Date > > const &,std::vector< Rate,std::allocator< Rate > > const &,DayCounter const &)\n",
     "output_type": "error",
     "traceback": [
      "\u001b[1;31m---------------------------------------------------------------------------\u001b[0m",
      "\u001b[1;31mTypeError\u001b[0m                                 Traceback (most recent call last)",
      "\u001b[1;32m~\\AppData\\Local\\Temp\\ipykernel_36716\\4107798214.py\u001b[0m in \u001b[0;36m?\u001b[1;34m()\u001b[0m\n\u001b[0;32m      1\u001b[0m \u001b[0mdates\u001b[0m \u001b[1;33m=\u001b[0m \u001b[1;33m[\u001b[0m\u001b[0mql\u001b[0m\u001b[1;33m.\u001b[0m\u001b[0mDate\u001b[0m\u001b[1;33m(\u001b[0m\u001b[1;36m15\u001b[0m\u001b[1;33m,\u001b[0m\u001b[1;36m6\u001b[0m\u001b[1;33m,\u001b[0m\u001b[1;36m2020\u001b[0m\u001b[1;33m)\u001b[0m\u001b[1;33m,\u001b[0m \u001b[0mql\u001b[0m\u001b[1;33m.\u001b[0m\u001b[0mDate\u001b[0m\u001b[1;33m(\u001b[0m\u001b[1;36m15\u001b[0m\u001b[1;33m,\u001b[0m\u001b[1;36m6\u001b[0m\u001b[1;33m,\u001b[0m\u001b[1;36m2021\u001b[0m\u001b[1;33m)\u001b[0m\u001b[1;33m,\u001b[0m \u001b[0mql\u001b[0m\u001b[1;33m.\u001b[0m\u001b[0mDate\u001b[0m\u001b[1;33m(\u001b[0m\u001b[1;36m15\u001b[0m\u001b[1;33m,\u001b[0m\u001b[1;36m6\u001b[0m\u001b[1;33m,\u001b[0m\u001b[1;36m2022\u001b[0m\u001b[1;33m)\u001b[0m\u001b[1;33m]\u001b[0m\u001b[1;33m\u001b[0m\u001b[1;33m\u001b[0m\u001b[0m\n\u001b[0;32m      2\u001b[0m \u001b[0mzeros\u001b[0m \u001b[1;33m=\u001b[0m \u001b[1;33m[\u001b[0m\u001b[1;36m0.01\u001b[0m\u001b[1;33m,\u001b[0m \u001b[1;36m0.02\u001b[0m\u001b[1;33m,\u001b[0m \u001b[1;36m0.03\u001b[0m\u001b[1;33m]\u001b[0m\u001b[1;33m\u001b[0m\u001b[1;33m\u001b[0m\u001b[0m\n\u001b[1;32m----> 3\u001b[1;33m \u001b[0mcurve\u001b[0m \u001b[1;33m=\u001b[0m \u001b[0mql\u001b[0m\u001b[1;33m.\u001b[0m\u001b[0mZeroCurve\u001b[0m\u001b[1;33m(\u001b[0m\u001b[0mdates\u001b[0m\u001b[1;33m,\u001b[0m \u001b[0mzeros\u001b[0m\u001b[1;33m,\u001b[0m \u001b[0mql\u001b[0m\u001b[1;33m.\u001b[0m\u001b[0mActualActual\u001b[0m\u001b[1;33m,\u001b[0m \u001b[0mql\u001b[0m\u001b[1;33m.\u001b[0m\u001b[0mTARGET\u001b[0m\u001b[1;33m(\u001b[0m\u001b[1;33m)\u001b[0m\u001b[1;33m)\u001b[0m\u001b[1;33m\u001b[0m\u001b[1;33m\u001b[0m\u001b[0m\n\u001b[0m",
      "\u001b[1;32mc:\\Users\\tanishk.deoghare\\AppData\\Local\\anaconda3\\envs\\LMM\\Lib\\site-packages\\QuantLib\\QuantLib.py\u001b[0m in \u001b[0;36m?\u001b[1;34m(self, *args)\u001b[0m\n\u001b[0;32m  37112\u001b[0m     \u001b[1;32mdef\u001b[0m \u001b[0m__init__\u001b[0m\u001b[1;33m(\u001b[0m\u001b[0mself\u001b[0m\u001b[1;33m,\u001b[0m \u001b[1;33m*\u001b[0m\u001b[0margs\u001b[0m\u001b[1;33m)\u001b[0m\u001b[1;33m:\u001b[0m\u001b[1;33m\u001b[0m\u001b[1;33m\u001b[0m\u001b[0m\n\u001b[0;32m  37113\u001b[0m         \u001b[1;34mr\"\"\"__init__(ZeroCurve self, DateVector dates, DoubleVector yields, DayCounter dayCounter, Calendar calendar=Calendar(), Linear i=Linear(), Compounding compounding=Continuous, Frequency frequency=Annual) -> ZeroCurve\"\"\"\u001b[0m\u001b[1;33m\u001b[0m\u001b[1;33m\u001b[0m\u001b[0m\n\u001b[1;32m> 37114\u001b[1;33m         \u001b[0m_QuantLib\u001b[0m\u001b[1;33m.\u001b[0m\u001b[0mZeroCurve_swiginit\u001b[0m\u001b[1;33m(\u001b[0m\u001b[0mself\u001b[0m\u001b[1;33m,\u001b[0m \u001b[0m_QuantLib\u001b[0m\u001b[1;33m.\u001b[0m\u001b[0mnew_ZeroCurve\u001b[0m\u001b[1;33m(\u001b[0m\u001b[1;33m*\u001b[0m\u001b[0margs\u001b[0m\u001b[1;33m)\u001b[0m\u001b[1;33m)\u001b[0m\u001b[1;33m\u001b[0m\u001b[1;33m\u001b[0m\u001b[0m\n\u001b[0m",
      "\u001b[1;31mTypeError\u001b[0m: Wrong number or type of arguments for overloaded function 'new_ZeroCurve'.\n  Possible C/C++ prototypes are:\n    InterpolatedZeroCurve< Linear >::InterpolatedZeroCurve(std::vector< Date,std::allocator< Date > > const &,std::vector< Rate,std::allocator< Rate > > const &,DayCounter const &,Calendar const &,Linear const &,Compounding,Frequency)\n    InterpolatedZeroCurve< Linear >::InterpolatedZeroCurve(std::vector< Date,std::allocator< Date > > const &,std::vector< Rate,std::allocator< Rate > > const &,DayCounter const &,Calendar const &,Linear const &,Compounding)\n    InterpolatedZeroCurve< Linear >::InterpolatedZeroCurve(std::vector< Date,std::allocator< Date > > const &,std::vector< Rate,std::allocator< Rate > > const &,DayCounter const &,Calendar const &,Linear const &)\n    InterpolatedZeroCurve< Linear >::InterpolatedZeroCurve(std::vector< Date,std::allocator< Date > > const &,std::vector< Rate,std::allocator< Rate > > const &,DayCounter const &,Calendar const &)\n    InterpolatedZeroCurve< Linear >::InterpolatedZeroCurve(std::vector< Date,std::allocator< Date > > const &,std::vector< Rate,std::allocator< Rate > > const &,DayCounter const &)\n"
     ]
    }
   ],
   "source": [
    "dates = [ql.Date(15,6,2020), ql.Date(15,6,2021), ql.Date(15,6,2022)]\n",
    "zeros = [0.01, 0.02, 0.03]\n",
    "curve = ql.ZeroCurve(dates, zeros, ql.ActualActual, ql.TARGET())"
   ]
  },
  {
   "cell_type": "code",
   "execution_count": null,
   "metadata": {},
   "outputs": [],
   "source": []
  }
 ],
 "metadata": {
  "kernelspec": {
   "display_name": "Python 3",
   "language": "python",
   "name": "python3"
  },
  "language_info": {
   "codemirror_mode": {
    "name": "ipython",
    "version": 3
   },
   "file_extension": ".py",
   "mimetype": "text/x-python",
   "name": "python",
   "nbconvert_exporter": "python",
   "pygments_lexer": "ipython3",
   "version": "3.12.4"
  }
 },
 "nbformat": 4,
 "nbformat_minor": 2
}
