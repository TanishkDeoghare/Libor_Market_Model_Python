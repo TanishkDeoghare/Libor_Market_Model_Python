{
 "cells": [
  {
   "cell_type": "code",
   "execution_count": 1,
   "metadata": {},
   "outputs": [],
   "source": [
    "# Define model parameters\n",
    "num_rates = 10  # Number of forward rates to model\n",
    "tenor = 0.25  # Tenor length (e.g., 3 months)\n",
    "maturities = [tenor * (i + 1) for i in range(num_rates)]  # List of maturities\n",
    "volatilities = [0.2 for _ in range(num_rates)]  # Example volatilities for each forward rate\n"
   ]
  },
  {
   "cell_type": "code",
   "execution_count": 2,
   "metadata": {},
   "outputs": [],
   "source": [
    "import numpy as np\n",
    "\n",
    "# Simulate forward rates under lognormal process\n",
    "def simulate_forward_rates(initial_rates, volatilities, maturities, num_simulations, time_step):\n",
    "    forward_rates = np.zeros((num_simulations, len(initial_rates)))\n",
    "    for i in range(num_simulations):\n",
    "        for j in range(len(initial_rates)):\n",
    "            drift = 0  # Simplified; real drift depends on specific measure\n",
    "            diffusion = volatilities[j] * np.sqrt(time_step) * np.random.normal()\n",
    "            forward_rates[i, j] = initial_rates[j] * np.exp(drift + diffusion)\n",
    "    return forward_rates\n",
    "\n",
    "initial_rates = [0.05 for _ in range(num_rates)]  # Example initial forward rates\n",
    "num_simulations = 1000\n",
    "time_step = 1 / 252  # Daily steps\n",
    "\n",
    "simulated_rates = simulate_forward_rates(initial_rates, volatilities, maturities, num_simulations, time_step)\n"
   ]
  },
  {
   "cell_type": "code",
   "execution_count": 3,
   "metadata": {},
   "outputs": [
    {
     "name": "stdout",
     "output_type": "stream",
     "text": [
      "Caplet Prices: [np.float64(1993.880583837246), np.float64(2818.5988898508303), np.float64(3450.6276720216442), np.float64(3982.7837277029016), np.float64(4451.0353744683025), np.float64(4873.837491116029), np.float64(5262.1578905626275), np.float64(5623.145800914244), np.float64(5961.769237024253), np.float64(6281.646941855415)]\n"
     ]
    }
   ],
   "source": [
    "from scipy.stats import norm\n",
    "\n",
    "# Black model formula for caplet pricing\n",
    "def black_caplet_price(forward_rate, strike, volatility, maturity, notional):\n",
    "    d1 = (np.log(forward_rate / strike) + 0.5 * volatility**2 * maturity) / (volatility * np.sqrt(maturity))\n",
    "    d2 = d1 - volatility * np.sqrt(maturity)\n",
    "    caplet_price = notional * (forward_rate * norm.cdf(d1) - strike * norm.cdf(d2))\n",
    "    return caplet_price\n",
    "\n",
    "# Price caplets for all forward rates\n",
    "strike = 0.05  # Example strike rate\n",
    "notional = 1e6  # Example notional amount\n",
    "caplet_prices = []\n",
    "\n",
    "for j in range(len(initial_rates)):\n",
    "    price = black_caplet_price(initial_rates[j], strike, volatilities[j], maturities[j], notional)\n",
    "    caplet_prices.append(price)\n",
    "\n",
    "print(\"Caplet Prices:\", caplet_prices)\n"
   ]
  },
  {
   "cell_type": "code",
   "execution_count": 4,
   "metadata": {},
   "outputs": [
    {
     "name": "stdout",
     "output_type": "stream",
     "text": [
      "Bermudan Swaption Price: 438.8699055105767\n"
     ]
    }
   ],
   "source": [
    "# Monte Carlo simulation for pricing an exotic derivative (e.g., Bermudan swaption)\n",
    "def monte_carlo_bermudan_swaption(initial_rates, volatilities, maturities, num_simulations, time_step, notional):\n",
    "    payoffs = np.zeros(num_simulations)\n",
    "    for i in range(num_simulations):\n",
    "        rates = initial_rates.copy()\n",
    "        for t in range(len(maturities)):\n",
    "            # Simulate forward rates\n",
    "            drift = 0  # Simplified; real drift depends on specific measure\n",
    "            diffusion = volatilities[t] * np.sqrt(time_step) * np.random.normal()\n",
    "            rates[t] = rates[t] * np.exp(drift + diffusion)\n",
    "            \n",
    "            # Calculate payoff (simplified example)\n",
    "            if rates[t] > strike:  # Example condition for Bermudan swaption exercise\n",
    "                payoffs[i] = notional * (rates[t] - strike)\n",
    "                break\n",
    "    \n",
    "    # Discounted average payoff\n",
    "    discount_factor = np.exp(-initial_rates[0] * maturities[-1])\n",
    "    swaption_price = discount_factor * np.mean(payoffs)\n",
    "    return swaption_price\n",
    "\n",
    "strike = 0.05  # Example strike rate\n",
    "swaption_price = monte_carlo_bermudan_swaption(initial_rates, volatilities, maturities, num_simulations, time_step, notional)\n",
    "print(\"Bermudan Swaption Price:\", swaption_price)\n"
   ]
  },
  {
   "cell_type": "code",
   "execution_count": 6,
   "metadata": {},
   "outputs": [
    {
     "data": {
      "image/png": "[encoded data removed]",
      "text/plain": [
       "<Figure size 1000x600 with 1 Axes>"
      ]
     },
     "metadata": {},
     "output_type": "display_data"
    }
   ],
   "source": [
    "import matplotlib.pyplot as plt\n",
    "# Redefine parameters due to reset state\n",
    "num_rates = 10  # Number of forward rates to model\n",
    "tenor = 0.25  # Tenor length (e.g., 3 months)\n",
    "initial_rates = [0.05 for _ in range(num_rates)]  # Example initial forward rates\n",
    "maturities = [tenor * (i + 1) for i in range(num_rates)]  # List of maturities\n",
    "\n",
    "# Plot the forward rate curve\n",
    "plt.figure(figsize=(10, 6))\n",
    "plt.plot(maturities, initial_rates, marker='o', linestyle='-', color='b')\n",
    "plt.title('Forward Rate Curve')\n",
    "plt.xlabel('Maturity (Years)')\n",
    "plt.ylabel('Forward Rate')\n",
    "plt.grid(True)\n",
    "plt.show()\n"
   ]
  }
 ],
 "metadata": {
  "kernelspec": {
   "display_name": "Python 3",
   "language": "python",
   "name": "python3"
  },
  "language_info": {
   "codemirror_mode": {
    "name": "ipython",
    "version": 3
   },
   "file_extension": ".py",
   "mimetype": "text/x-python",
   "name": "python",
   "nbconvert_exporter": "python",
   "pygments_lexer": "ipython3",
   "version": "3.12.4"
  }
 },
 "nbformat": 4,
 "nbformat_minor": 2
}
